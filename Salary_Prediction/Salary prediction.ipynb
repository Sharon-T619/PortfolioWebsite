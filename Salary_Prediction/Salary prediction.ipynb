{
 "cells": [
  {
   "cell_type": "code",
   "execution_count": null,
   "metadata": {},
   "outputs": [],
   "source": [
    "# Importing the libraries\n",
    "import numpy as np\n",
    "import pandas as pd\n",
    "import matplotlib.pyplot as plt\n",
    "import seaborn as sns"
   ]
  },
  {
   "cell_type": "code",
   "execution_count": null,
   "metadata": {},
   "outputs": [],
   "source": [
    "# Loading the data\n",
    "df = pd.read_csv('Salary_Data_Based_country_and_race.csv')\n",
    "df.head()"
   ]
  },
  {
   "cell_type": "code",
   "execution_count": null,
   "metadata": {},
   "outputs": [],
   "source": [
    "### Data Preprocessing\n",
    "# Checking the shape of the data\n",
    "df.shape"
   ]
  },
  {
   "cell_type": "code",
   "execution_count": null,
   "metadata": {},
   "outputs": [],
   "source": [
    "# Checking for null/missing values\n",
    "df.isnull().sum()"
   ]
  },
  {
   "cell_type": "code",
   "execution_count": null,
   "metadata": {},
   "outputs": [],
   "source": [
    "## The number of rows with null/missing values is less compared to the total number of rows.\n",
    "## Need to drop these rows.\n",
    "df.dropna(axis=0, inplace=True)"
   ]
  },
  {
   "cell_type": "code",
   "execution_count": null,
   "metadata": {},
   "outputs": [],
   "source": [
    "# Checking for null values\n",
    "df.isnull().sum()"
   ]
  },
  {
   "cell_type": "code",
   "execution_count": null,
   "metadata": {},
   "outputs": [],
   "source": [
    "## Dropping Unnamed Column beacuse it is just an index column\n",
    "# Dropping column\n",
    "df.drop(columns = 'Unnamed: 0',axis=1,inplace=True)"
   ]
  },
  {
   "cell_type": "code",
   "execution_count": null,
   "metadata": {},
   "outputs": [],
   "source": [
    "# Checking data type of each column\n",
    "df.dtypes"
   ]
  },
  {
   "cell_type": "code",
   "execution_count": null,
   "metadata": {},
   "outputs": [],
   "source": [
    "## Checking for unique values in each column\n",
    "# Unique values in each column\n",
    "df.nunique()"
   ]
  },
  {
   "cell_type": "code",
   "execution_count": null,
   "metadata": {},
   "outputs": [],
   "source": [
    "### The Job Title column has 191 different values. It will be very difficult to analyze so many job titles. So, group the job titles under similar job domains.\n",
    "# Find the unique Job Titles\n",
    "df['Job Title'].unique()"
   ]
  },
  {
   "cell_type": "code",
   "execution_count": null,
   "metadata": {},
   "outputs": [],
   "source": [
    "# Grouping Job Titles\n",
    "\n",
    "def categorize_job_title(job_title):\n",
    "    job_title = str(job_title).lower() \n",
    "    if 'software' in job_title or 'developer' in job_title:\n",
    "        return 'Software/Developer'\n",
    "    elif 'data' in job_title or 'analyst' in job_title or 'scientist' in job_title:\n",
    "        return 'Data Analyst/Scientist'\n",
    "    elif 'manager' in job_title or 'director' in job_title or 'vp' in job_title:\n",
    "        return 'Manager/Director/VP'\n",
    "    elif 'sales' in job_title or 'representative' in job_title:\n",
    "        return 'Sales'\n",
    "    elif 'marketing' in job_title or 'social media' in job_title:\n",
    "        return 'Marketing/Social Media'\n",
    "    elif 'product' in job_title or 'designer' in job_title:\n",
    "        return 'Product/Designer'\n",
    "    elif 'hr' in job_title or 'human resources' in job_title:\n",
    "        return 'HR/Human Resources'\n",
    "    elif 'financial' in job_title or 'accountant' in job_title:\n",
    "        return 'Financial/Accountant'\n",
    "    elif 'project manager' in job_title:\n",
    "        return 'Project Manager'\n",
    "    elif 'it' in job_title or 'support' in job_title:\n",
    "        return 'IT/Technical Support'\n",
    "    elif 'operations' in job_title or 'supply chain' in job_title:\n",
    "        return 'Operations/Supply Chain'\n",
    "    elif 'customer service' in job_title or 'receptionist' in job_title:\n",
    "        return 'Customer Service/Receptionist'\n",
    "    else:\n",
    "        return 'Other'\n",
    "df['Job Title'] = df['Job Title'].apply(categorize_job_title)"
   ]
  },
  {
   "cell_type": "code",
   "execution_count": null,
   "metadata": {},
   "outputs": [],
   "source": [
    "## Education Level in the dataset has 7 unique values\n",
    "\n",
    "# Unique values for Education Level\n",
    "df['Education Level'].unique() "
   ]
  },
  {
   "cell_type": "code",
   "execution_count": null,
   "metadata": {},
   "outputs": [],
   "source": [
    "## In the dataset the education level is represented in two different ways.\n",
    "#1. Bachelor's and Bachelor's degree, which means the same thing. Group it into Bachelors\n",
    "#2. Master's and Master's Degree, grouped into Masters\n",
    "#3. phD and PhD, as PhD\n",
    "#4. High School\n",
    "\n",
    "# Grouping Education Level\n",
    "\n",
    "def group_education(Educaton):\n",
    "    \n",
    "    Educaton = str(Educaton).lower()\n",
    "    if 'high school' in Educaton:\n",
    "        return 'High School'\n",
    "    elif 'bachelor\\'s' in Educaton:\n",
    "        return 'Bachelors'\n",
    "    elif 'master\\'s' in Educaton:\n",
    "        return 'Masters'\n",
    "    elif 'phd' in Educaton:\n",
    "        return 'PhD'\n",
    "df['Education Level'] = df['Education Level'].apply(group_education)   "
   ]
  },
  {
   "cell_type": "code",
   "execution_count": null,
   "metadata": {},
   "outputs": [],
   "source": [
    "### DESCRIPTIVE STATISTICS\n",
    "# Descriptive statistics\n",
    "df.describe()"
   ]
  },
  {
   "cell_type": "code",
   "execution_count": null,
   "metadata": {},
   "outputs": [],
   "source": [
    "df.head()"
   ]
  },
  {
   "cell_type": "code",
   "execution_count": null,
   "metadata": {},
   "outputs": [],
   "source": [
    "df['Gender'].unique()"
   ]
  },
  {
   "cell_type": "code",
   "execution_count": null,
   "metadata": {},
   "outputs": [],
   "source": [
    "### Exploratory Data Analysis\n",
    "## In the EDA, look at the data and try to understand it. Begin by looking at the distribution of data across the dataset.\n",
    "# Followed by visualizing the data to understand the relationship between the features and the target variable.\n",
    "\n",
    "## Independent Var 1: Gender\n",
    "\n",
    "# Pie chart\n",
    "plt.figure(figsize=(8,8))\n",
    "plt.pie(df['Gender'].value_counts(), labels=['Male','Female', 'Other'], autopct='%1.1f%%', startangle=90)\n",
    "plt.title('Gender Distribution')\n",
    "plt.show()\n",
    "\n",
    "## Output: The pie chart shows that majority of the employees in the dataset are male representing 54.8 % of the dataset, followed by females by 45% and 0.2% employees that belong to other gender."
   ]
  },
  {
   "cell_type": "code",
   "execution_count": null,
   "metadata": {},
   "outputs": [],
   "source": [
    "## Independent Var 2: Age\n",
    "\n",
    "# Age Distribution\n",
    "sns.histplot(data=df, x='Age', bins=20, kde=True)\n",
    "plt.title('Age Distribution')\n",
    "plt.show()\n",
    "\n",
    "## Output: Majority of the employees are in the range of (25 - 33) years of age, meaning majority of the employees are young and energetic. \n",
    "# There is only minimal number of old employees in the dataset having age more than 55 years.\n"
   ]
  },
  {
   "cell_type": "code",
   "execution_count": null,
   "metadata": {},
   "outputs": [],
   "source": [
    "## Independent Var 3: Educattion \n",
    "# Education Level\n",
    "sns.countplot(x = 'Education Level', data = df, palette='Set1')\n",
    "plt.xticks(rotation=90)\n",
    "\n",
    "## Output: Most of the employees have a Bachelor's degree followed by Master's degree and Doctoral degree. The least number of employees have a High School education. \n",
    "# From the graph it is clear that most of the employees started working after graduation, few of them started working after post graduation and very few of them have gone for doctorate. \n",
    "# The least number of employees have started working after high school education."
   ]
  },
  {
   "cell_type": "code",
   "execution_count": null,
   "metadata": {},
   "outputs": [],
   "source": [
    "## Independent Var 4: Job Titles\n",
    "\n",
    "# Job Title\n",
    "sns.countplot(x='Job Title', data = df)\n",
    "plt.xticks(rotation=90)\n",
    "\n",
    "## Output: Simpler form for visualizing job titles. From the graph, it is clear that majority of the employees are - Software Developers, Data Analyst/Scientist or Manager/Director/Vp. \n",
    "# Fewer number of employees have job titles such as sales, marketing/social media, HR, Product Designer and Customer Service. Fewest employees work as Financial/accountant or operation/supply management.\n",
    "\n",
    "# CONC: # Fewer number of employees have job titles such as sales, marketing/social media, HR, Product Designer and Customer Service. Fewest employees work as Financial/accountants or operation/supply management."
   ]
  },
  {
   "cell_type": "code",
   "execution_count": null,
   "metadata": {},
   "outputs": [],
   "source": [
    "## Independent Var 5: YOE\n",
    "\n",
    "# Years of Experience\n",
    "sns.histplot(x = 'Years of Experience', data = df,kde=True)\n",
    "\n",
    "## Output: Most of the employees in the dataset have experience of 1-7 years in the respective domains.\n",
    "# The number of employees in the dataset decreases with increasing number of years of experience."
   ]
  },
  {
   "cell_type": "code",
   "execution_count": null,
   "metadata": {},
   "outputs": [],
   "source": [
    "## Independent Var 6: Employees Country\n",
    "\n",
    "# Country\n",
    "sns.countplot(x='Country', data=df)\n",
    "plt.xticks(rotation=90)\n",
    "\n",
    "## Output: The number of employees from the 5 countries is nearly the same, with a little more in USA and little less in Canada."
   ]
  },
  {
   "cell_type": "code",
   "execution_count": null,
   "metadata": {},
   "outputs": [],
   "source": [
    "## Independent Var 7: Race of employees\n",
    "\n",
    "# Racial Distribution\n",
    "sns.countplot(x='Race', data=df)\n",
    "plt.xticks(rotation=90)\n",
    "\n",
    "## Output: Visualization of the racial distribution in the dataset. From the graph, it is clear that most of the employees are either White or Asian, followed by Korean, Chinese, Australian and Black. \n",
    "# Number of employees from Welsh, African American, Mixed and Hispanic race are less as compared to other groups."
   ]
  },
  {
   "cell_type": "code",
   "execution_count": null,
   "metadata": {},
   "outputs": [],
   "source": [
    "## From the above plots and graphs, we understand the data we are dealing with - its distribution and quantity as well. \n",
    "# Next step is to explore the relations of these independent variables with the target Variable i.e. Salary.\n",
    "\n",
    "# 1. Age and Salary\n",
    "sns.scatterplot(x = 'Age', y='Salary', data=df)\n",
    "plt.title('Age Vs Salary')\n",
    "\n",
    "## Output: The scatter plot shows a trend where the Salary of an employee increases with Age, which is obvious because of promotions and apprisals. \n",
    "# However upon closer observation we can find that similar age have multiple salaries, which means there are other factors which decides the salary."
   ]
  },
  {
   "cell_type": "code",
   "execution_count": null,
   "metadata": {},
   "outputs": [],
   "source": [
    "# 2. Gender and Salary\n",
    "fig, ax = plt.subplots(1,2, figsize = (15, 5))\n",
    "sns.boxplot(x = 'Gender', y='Salary', data = df, ax =ax[0]).set_title('Gender Vs Salary')\n",
    "sns.violinplot(x = 'Gender', y='Salary', data = df, ax =ax[1]).set_title('Gender Vs Salary')\n",
    "\n",
    "## Output: The boxplot and violinplot describes the salary distribution among the three genders.\n",
    "# In the boxplot the employees from Other gender has quite high salary level as compared to the Males and Females. \n",
    "# The other gender employees have a median salary above 150000, followed by males with median salary near 125000 and females with median salary slightly above 100000. \n",
    "# The voilin plot visualizes that most of the Other gender employees have salary above 150000. \n",
    "# In males this distribution is concentrated between 50000 and 100000 as well as near 200000. In case of females, there salary distribution is quite spread as compared to other genders with most near 50000."
   ]
  },
  {
   "cell_type": "code",
   "execution_count": null,
   "metadata": {},
   "outputs": [],
   "source": [
    "# 3. Education Level and Salary\n",
    "fig,ax = plt.subplots(1,2,figsize=(15,6))\n",
    "sns.boxplot(x = 'Education Level', y = 'Salary', data = df, ax=ax[0]).set_title('Education Level Vs Salary')\n",
    "sns.violinplot(x = 'Education Level', y = 'Salary', data = df, ax=ax[1]).set_title('Education Level Vs Salary')\n",
    "\n",
    "## Output: The boxplot and violinplot shows the distribution of salary based on the employees education level. \n",
    "# The median salary for the Phd holders is highest followed by Masters then bachelors degreee holders. Employees with no degree have the lowest median salary. \n",
    "# With the violinplot; PhD scholars have distribution near 200000, the Masters degree holders have a very sleak distribution where the salary distribution is spread from 100k to 150k.\n",
    "# The Bachelors degree holders have a salary distribution near 50000 whereas the employees with no degree have a salary distribution near 40k-45k.\n",
    "# From these graph; The assumption that employees with higher education level have higher salary than employees with lower education level can be verified."
   ]
  },
  {
   "cell_type": "code",
   "execution_count": null,
   "metadata": {},
   "outputs": [],
   "source": [
    "# 4. Job Title and Salary\n",
    "sns.barplot(x = 'Job Title', y = 'Salary', data = df, palette = 'Set2')\n",
    "plt.xticks(rotation = 90)\n",
    "\n",
    "## Output: The graph falsifies the previous hypothesis regarding demand and pay with respect to job titles. \n",
    "# The 'Other' category job titles have higher salary than titles assumed to be in high demand and have higher pay. \n",
    "# In contrast to previous Job title graph, this graph shows that there is no relation between the job title distribution and salary. \n",
    "# The job titles which gave high salary are found to be less in number.\n",
    "# The hypothesis is true about the Job titles such as Software Developer, Data analyst/scuentust and Manager/Director/VP - These job titles are found to be in high demand and pay.\n",
    "# - But in contrast to that the job titles such as Operation/Supply chain, HR, Financial/Accountant and Marketing/Social Media are have much more salary than assumed."
   ]
  },
  {
   "cell_type": "code",
   "execution_count": null,
   "metadata": {},
   "outputs": [],
   "source": [
    "# 5. Experience and Salary\n",
    "sns.scatterplot(x= 'Years of Experience', y  = 'Salary', data = df).set_title('Years of Experience Vs Salary')\n",
    "\n",
    "## Output: From the scaaterplot, it is clear that on the whole, the salary of the employees is increasing with the years of experience. \n",
    "# However, on closer look we can see that similar YOE have different salaries. This is because the salary is also dependent on other factors like job title, age, gender education level as discussed earlier."
   ]
  },
  {
   "cell_type": "code",
   "execution_count": null,
   "metadata": {},
   "outputs": [],
   "source": [
    "# 6. Country and Salary\n",
    "fig,ax = plt.subplots(1,2,figsize=(15,6))\n",
    "sns.boxplot(x = 'Country', y = 'Salary', data = df, ax=ax[0])\n",
    "sns.violinplot(x = 'Country', y = 'Salary', data = df, ax=ax[1])\n",
    "\n",
    "## Output: Both the boxplot and violinplot shows very similar insight about the salary across all the countiries. \n",
    "# However, there is very small variation in median salary in USA, which is slighlty low median salary as compared to the other countries."
   ]
  },
  {
   "cell_type": "code",
   "execution_count": null,
   "metadata": {},
   "outputs": [],
   "source": [
    "# From the above the we cannot get much information about the salary with respect to the countries. So, I will plot the job title vs salary graph for each country, so that we can get a overview of job title vs salary for each country.\n",
    "\n",
    "fig,ax = plt.subplots(3,2,figsize=(20,20))\n",
    "plt.subplots_adjust(hspace=0.5)\n",
    "sns.boxplot(x = 'Job Title', y = 'Salary', data = df[df['Country'] == 'USA'], ax = ax[0,0]).set_title('USA')\n",
    "ax[0,0].tick_params(axis='x', rotation=90)\n",
    "sns.boxplot(x = 'Job Title', y = 'Salary', data = df[df['Country'] == 'UK'], ax = ax[0,1]).set_title('UK')\n",
    "ax[0,1].tick_params(axis='x', rotation=90)\n",
    "sns.boxplot(x = 'Job Title', y = 'Salary', data = df[df['Country'] == 'Canada'], ax = ax[1,0]).set_title('Canada')\n",
    "ax[1,0].tick_params(axis='x', rotation=90)\n",
    "sns.boxplot(x = 'Job Title', y = 'Salary', data = df[df['Country'] == 'Australia'], ax = ax[1,1]).set_title('Australia')\n",
    "ax[1,1].tick_params(axis='x', rotation=90)\n",
    "sns.boxplot(x = 'Job Title', y = 'Salary', data = df[df['Country'] == 'China'], ax = ax[2,0]).set_title('China')\n",
    "ax[2,0].tick_params(axis='x', rotation=90)\n",
    "sns.boxplot(x = 'Job Title', y = 'Salary', data = df, ax = ax[2,1]).set_title('All Countries')\n",
    "ax[2,1].tick_params(axis='x', rotation=90)\n",
    "\n",
    "## Output: After observing all these plots, I conclude that the Job Titles such as Software Developer, Manager/Director/VP and Data Analyst/Scientist are in high demand as well as receive much higher salary than other job titles, excluding the Job Titles that come under 'Other' category. The job titles such as Operation/Supply Chain, Customer Service/Receptionist, Product Designer and sales are in low demand and have low salary."
   ]
  },
  {
   "cell_type": "code",
   "execution_count": null,
   "metadata": {},
   "outputs": [],
   "source": [
    "# 7. Race and Salary\n",
    "fig,ax = plt.subplots(1,2,figsize=(15,6))\n",
    "sns.boxplot(x = 'Race', y = 'Salary', data = df, ax = ax[0])\n",
    "ax[0].tick_params(axis='x', rotation=90)\n",
    "sns.violinplot(x = 'Race', y ='Salary', data = df, ax = ax[1])\n",
    "ax[1].tick_params(axis='x', rotation=90)\n",
    "\n",
    "##Output: The employees from the races - Mixed, Korean, Blacks and White have the highest median salary, followed by Asian and Australian then  Chinese, Welsh and African American while the employees from the hispanic race have the lowest median salary. \n",
    "# Looking at the violinplot the salary distribution is more concentrated after 125k in white, australian, black, Korean and mixed race. Whereas the hispanic has more concentration near 110k"
   ]
  },
  {
   "cell_type": "code",
   "execution_count": null,
   "metadata": {},
   "outputs": [],
   "source": [
    "###DATA PREPROCESSING 2\n",
    "\n",
    "## Label encoding to categorical features\n",
    "from sklearn.preprocessing import LabelEncoder\n",
    "features = ['Gender','Country','Education Level','Job Title', 'Race']\n",
    "le = LabelEncoder()\n",
    "for feature in features:\n",
    "    le.fit(df[feature].unique())\n",
    "    df[feature] = le.transform(df[feature])\n",
    "    print(feature, df[feature].unique())"
   ]
  },
  {
   "cell_type": "code",
   "execution_count": null,
   "metadata": {},
   "outputs": [],
   "source": [
    "## Normalization\n",
    "\n",
    "# Normalizing the continuous variables\n",
    "from sklearn.preprocessing import StandardScaler\n",
    "scaler = StandardScaler()\n",
    "df[['Age', 'Years of Experience', 'Salary']] = scaler.fit_transform(df[['Age', 'Years of Experience', 'Salary']])\n",
    "\n",
    "df.head()"
   ]
  },
  {
   "cell_type": "code",
   "execution_count": null,
   "metadata": {},
   "outputs": [],
   "source": [
    "## Correlation Matrix Heatmap\n",
    "# Correlation Heatmap\n",
    "plt.figure(figsize=(12,8))\n",
    "sns.heatmap(df.corr(),annot=True, cmap='coolwarm')\n",
    "\n",
    "## Output: From the correlation matrix, there are three major correlations.\n",
    "#1. Salary and Age [0.73]\n",
    "#2. Salary and Years of Experience [0.81]\n",
    "#3. Years of Experience and Age [0.94]\n",
    "## The correlation salary with age and years of experience is already explored in the above plots. \n",
    "# The coorelation between the years of experience and age is obvious as the person ages the experience will be more."
   ]
  },
  {
   "cell_type": "code",
   "execution_count": null,
   "metadata": {},
   "outputs": [],
   "source": [
    "## Train_Test Split\n",
    "from sklearn.model_selection import train_test_split\n",
    "X_train, X_test, y_train, y_test = train_test_split(df.drop('Salary', axis=1), df['Salary'], test_size=0.2, random_state=42)"
   ]
  },
  {
   "cell_type": "code",
   "execution_count": null,
   "metadata": {},
   "outputs": [],
   "source": [
    "##Salary Prediction\n",
    "# Using the following models:\n",
    "#1. Decision Tree Regressor\n",
    "#2. Random Forest Regressor\n",
    "\n",
    "## Decision Tree Regressor\n",
    "from sklearn.tree import DecisionTreeRegressor\n",
    "## Random Forest Regressor\n",
    "from sklearn.ensemble import RandomForestRegressor"
   ]
  },
  {
   "cell_type": "code",
   "execution_count": null,
   "metadata": {},
   "outputs": [],
   "source": [
    "## 1. DTR\n",
    "# Creating the decision tree gressor object\n",
    "dtree = DecisionTreeRegressor()"
   ]
  },
  {
   "cell_type": "code",
   "execution_count": null,
   "metadata": {},
   "outputs": [],
   "source": [
    "## Hypertuning the model\n",
    "from sklearn.model_selection import GridSearchCV"
   ]
  },
  {
   "cell_type": "code",
   "execution_count": null,
   "metadata": {},
   "outputs": [],
   "source": [
    "# Defining the parameters for the grid search\n",
    "parameters = {'max_depth' :[2,4,6,8,10],\n",
    "              'min_samples_split' :[2,4,6,8],\n",
    "              'min_samples_leaf' :[2,4,6,8],\n",
    "              'max_features' :['auto','sqrt','log2'],\n",
    "              'random_state' :[0,42]}"
   ]
  },
  {
   "cell_type": "code",
   "execution_count": null,
   "metadata": {},
   "outputs": [],
   "source": [
    "# Creating the grid search object\n",
    "grid_search = GridSearchCV(dtree,parameters,cv=5,scoring='neg_mean_squared_error',n_jobs=-1)"
   ]
  },
  {
   "cell_type": "code",
   "execution_count": null,
   "metadata": {},
   "outputs": [],
   "source": [
    "# Fit the grid search object to the training data\n",
    "grid_search.fit(X_train,y_train)"
   ]
  },
  {
   "cell_type": "code",
   "execution_count": null,
   "metadata": {},
   "outputs": [],
   "source": [
    "## Building the model on best parameters\n",
    "dtree = DecisionTreeRegressor(max_depth = 10, max_features = 'auto', min_samples_leaf = 2, min_samples_split = 8, random_state = 42)\n",
    "dtree"
   ]
  },
  {
   "cell_type": "code",
   "execution_count": null,
   "metadata": {},
   "outputs": [],
   "source": [
    "# Fitting the training data\n",
    "dtree.fit(X_train,y_train)"
   ]
  },
  {
   "cell_type": "code",
   "execution_count": null,
   "metadata": {},
   "outputs": [],
   "source": [
    "# Predicting the salary of an employee \n",
    "d_pred = dtree.predict(X_test)"
   ]
  },
  {
   "cell_type": "code",
   "execution_count": null,
   "metadata": {},
   "outputs": [],
   "source": [
    "## Evaluating the Decision Tree Regressor Model\n",
    "dft = pd.DataFrame({'Actual': y_test, 'Predicted': d_pred})\n",
    "dft.reset_index(drop=True, inplace=True)\n",
    "dft.head(10)"
   ]
  },
  {
   "cell_type": "code",
   "execution_count": null,
   "metadata": {},
   "outputs": [],
   "source": [
    "dft.tail(10)"
   ]
  },
  {
   "cell_type": "code",
   "execution_count": null,
   "metadata": {},
   "outputs": [],
   "source": [
    "ax = sns.distplot (dft['Actual'], color = 'blue', hist = False, kde = True, kde_kws = {'linewidth': 3}, label = 'Actual')\n",
    "sns.distplot (dft['Predicted'], color = 'red', ax=ax, hist = False, kde = True, kde_kws = {'linewidth': 3}, label = 'Predicted')\n",
    "\n",
    "## Output: The blue shows the distribution count for actual values and the red line shows the distribution count for predicted values.\n",
    "# The predicted values are close to the actual values and their curve coincides with the actual values curve. This shows that the model is a good fit.\n"
   ]
  },
  {
   "cell_type": "code",
   "execution_count": null,
   "metadata": {},
   "outputs": [],
   "source": [
    "from sklearn.metrics import r2_score, mean_squared_error, mean_absolute_error\n",
    "\n",
    "print(\"R2 Score: \", r2_score(y_test, d_pred))\n",
    "print(\"Mean Squared Error: \", mean_squared_error(y_test, d_pred))\n",
    "print(\"Mean Absolute Error: \", mean_absolute_error(y_test, d_pred))\n",
    "print('RMSE:', np.sqrt(mean_squared_error(y_test, d_pred)))"
   ]
  },
  {
   "cell_type": "code",
   "execution_count": null,
   "metadata": {},
   "outputs": [],
   "source": [
    "## 2. RF\n",
    "# Creating random forest regressor object\n",
    "rfg = RandomForestRegressor()"
   ]
  },
  {
   "cell_type": "code",
   "execution_count": null,
   "metadata": {},
   "outputs": [],
   "source": [
    "# Trainig the model\n",
    "rfg.fit(X_train, y_train)"
   ]
  },
  {
   "cell_type": "code",
   "execution_count": null,
   "metadata": {},
   "outputs": [],
   "source": [
    "# Training accuracy\n",
    "rfg.score(X_train, y_train)"
   ]
  },
  {
   "cell_type": "code",
   "execution_count": null,
   "metadata": {},
   "outputs": [],
   "source": [
    "# Predicitng salary of the employee\n",
    "r_pred = rfg.predict(X_test)"
   ]
  },
  {
   "cell_type": "code",
   "execution_count": null,
   "metadata": {},
   "outputs": [],
   "source": [
    "## Evaluating Random Forest Regressor Model\n",
    "dfr = pd.DataFrame({'Actual': y_test, 'Predicted': r_pred})\n",
    "dfr.reset_index(drop=True, inplace=True)\n",
    "dfr.head(10)"
   ]
  },
  {
   "cell_type": "code",
   "execution_count": null,
   "metadata": {},
   "outputs": [],
   "source": [
    "dfr.tail(10)"
   ]
  },
  {
   "cell_type": "code",
   "execution_count": null,
   "metadata": {},
   "outputs": [],
   "source": [
    "ax = sns.distplot(dft['Actual'], color = 'blue', hist = False, kde = True, kde_kws = {'linewidth': 3}, label = 'Actual')\n",
    "sns.distplot(  dft['Predicted'], color = 'red', ax=ax, hist = False, kde = True, kde_kws = {'linewidth': 3}, label = 'Predicted')\n",
    "\n",
    "## Output: The blue shows the distribution count for actual values and the red line shows the distribution count for predicted values. \n",
    "# The predicted values are close to the actual values and their curve coincides with the actual values curve. This shows that the model is a good fit."
   ]
  },
  {
   "cell_type": "code",
   "execution_count": null,
   "metadata": {},
   "outputs": [],
   "source": [
    "# Metrics\n",
    "print(\"R2 Score: \", r2_score(y_test, r_pred))\n",
    "print(\"Mean Squared Error: \", mean_squared_error(y_test, r_pred))\n",
    "print(\"Mean Absolute Error: \", mean_absolute_error(y_test, r_pred))\n",
    "print('RMSE:', np.sqrt(mean_squared_error(y_test, r_pred)))"
   ]
  },
  {
   "cell_type": "code",
   "execution_count": null,
   "metadata": {},
   "outputs": [],
   "source": [
    "## Conclusion\n",
    "# From the exploratory data analysis, I have concluded that the salary of the employees is dependent upon the following factors:\n",
    "\n",
    "#1. Years of Experience\n",
    "#2. Job Title\n",
    "#3. Education Level\n",
    "\n",
    "# Employees with greater years of experience, having job title such as Data analyst/scientist, Software Developer or Director/Manager/VP and having a Master's or Doctoral degree are more likely to have a higher salary.\n",
    "\n",
    "# Coming to the machine learning models, I have used regressor models - Decision Tree Regressor and Random Forest Regressor for predicting the salary. The Random Forest Regressor has performed better with the accuracy of 94.6%"
   ]
  }
 ],
 "metadata": {
  "kernelspec": {
   "display_name": "base",
   "language": "python",
   "name": "python3"
  },
  "language_info": {
   "codemirror_mode": {
    "name": "ipython",
    "version": 3
   },
   "file_extension": ".py",
   "mimetype": "text/x-python",
   "name": "python",
   "nbconvert_exporter": "python",
   "pygments_lexer": "ipython3",
   "version": "3.10.9"
  },
  "orig_nbformat": 4
 },
 "nbformat": 4,
 "nbformat_minor": 2
}
